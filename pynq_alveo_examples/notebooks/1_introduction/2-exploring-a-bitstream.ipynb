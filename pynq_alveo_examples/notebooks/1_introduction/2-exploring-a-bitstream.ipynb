{
 "cells": [
  {
   "cell_type": "markdown",
   "metadata": {},
   "source": [
    "# Exploring an XCLBIN file with PYNQ\n",
    "\n",
    "In this notebook we explore the ways that PYNQ can be used to see what's in an xclbin file.\n",
    "\n",
    "To start with we'll download a bitstream from the internet using the `urllib` library that comes as part of the standard library. The bitstream is from the kernel optimisation notebooks but any other accessible xclbin file could be used."
   ]
  },
  {
   "cell_type": "code",
   "execution_count": 1,
   "metadata": {},
   "outputs": [],
   "source": [
    "import urllib.request\n",
    "\n",
    "with urllib.request.urlopen('https://bit.ly/38ukSXG') as source, \\\n",
    "     open('downloaded.xclbin', 'wb') as sink:\n",
    "    data = source.read()\n",
    "    sink.write(data)"
   ]
  },
  {
   "cell_type": "markdown",
   "metadata": {},
   "source": [
    "The starting point of all xclbin files is the `Overlay` class. To explore the bitstream without downloading it we can pass the `download=False` parameters to the constructor. This won't let us instantiate drivers but we can still explore the data-structures contained in the xclbin file."
   ]
  },
  {
   "cell_type": "code",
   "execution_count": 2,
   "metadata": {},
   "outputs": [
    {
     "data": {
      "application/javascript": [
       "\n",
       "try {\n",
       "require(['notebook/js/codecell'], function(codecell) {\n",
       "  codecell.CodeCell.options_default.highlight_modes[\n",
       "      'magic_text/x-csrc'] = {'reg':[/^%%microblaze/]};\n",
       "  Jupyter.notebook.events.one('kernel_ready.Kernel', function(){\n",
       "      Jupyter.notebook.get_cells().map(function(cell){\n",
       "          if (cell.cell_type == 'code'){ cell.auto_highlight(); } }) ;\n",
       "  });\n",
       "});\n",
       "} catch (e) {};\n"
      ]
     },
     "metadata": {},
     "output_type": "display_data"
    }
   ],
   "source": [
    "import pynq\n",
    "\n",
    "ol = pynq.Overlay('downloaded.xclbin', download=False)"
   ]
  },
  {
   "cell_type": "markdown",
   "metadata": {},
   "source": [
    "To list everything in a bitstream inside Jupyter you can use the `?` operator to display the instance's documentation. This is dynamically generated based on what is in the "
   ]
  },
  {
   "cell_type": "code",
   "execution_count": 3,
   "metadata": {},
   "outputs": [],
   "source": [
    "ol?"
   ]
  },
  {
   "cell_type": "markdown",
   "metadata": {},
   "source": [
    "More details on each object in the bitstream can be found from two dictionaries - the `ip_dict` containing the IP details and the `mem_dict` containing the memories and streams.\n",
    "\n",
    "## The IP Dictionary\n",
    "\n",
    "The `ip_dict` contains a lot of information so a good starting point is to just look at the keys of the dictionary."
   ]
  },
  {
   "cell_type": "code",
   "execution_count": 7,
   "metadata": {},
   "outputs": [
    {
     "data": {
      "text/plain": [
       "dict_keys(['vadd_wide_multibanks_1', 'vadd_wide_1', 'krnl_stream_vadd_1', 'krnl_stream_vmult_1'])"
      ]
     },
     "execution_count": 7,
     "metadata": {},
     "output_type": "execute_result"
    }
   ],
   "source": [
    "ol.ip_dict.keys()"
   ]
  },
  {
   "cell_type": "markdown",
   "metadata": {},
   "source": [
    "This exactly match what was seen in the overlay documentation. We can now look in detail at one particular entry - the `vadd_wide_1`"
   ]
  },
  {
   "cell_type": "code",
   "execution_count": 18,
   "metadata": {
    "scrolled": true
   },
   "outputs": [
    {
     "data": {
      "text/plain": [
       "{'phys_addr': 25165824,\n",
       " 'addr_range': 4096,\n",
       " 'type': 'xilinx.com:hls:vadd_wide:1.0',\n",
       " 'fullpath': 'vadd_wide_1',\n",
       " 'registers': {'CTRL': {'address_offset': 0,\n",
       "   'access': 'read-write',\n",
       "   'size': 4,\n",
       "   'description': 'OpenCL Control Register',\n",
       "   'type': 'unsigned int',\n",
       "   'id': None,\n",
       "   'fields': {'AP_START': {'access': 'read-write',\n",
       "     'bit_offset': 0,\n",
       "     'bit_width': 1,\n",
       "     'description': 'Start the accelerator'},\n",
       "    'AP_DONE': {'access': 'read-only',\n",
       "     'bit_offset': 1,\n",
       "     'bit_width': 1,\n",
       "     'description': 'Accelerator has finished - cleared on read'},\n",
       "    'AP_IDLE': {'access': 'read-only',\n",
       "     'bit_offset': 2,\n",
       "     'bit_width': 1,\n",
       "     'description': 'Accelerator is idle'},\n",
       "    'AP_READY': {'access': 'read-only',\n",
       "     'bit_offset': 3,\n",
       "     'bit_width': 1,\n",
       "     'description': 'Accelerator is ready to start next computation'},\n",
       "    'AUTO_RESTART': {'access': 'read-write',\n",
       "     'bit_offset': 7,\n",
       "     'bit_width': 1,\n",
       "     'description': 'Restart the accelerator automatically when finished'}}},\n",
       "  'a': {'address_offset': 16,\n",
       "   'access': 'read-write;',\n",
       "   'size': 64,\n",
       "   'description': 'OpenCL Argument Register',\n",
       "   'type': 'ap_uint<512>*',\n",
       "   'id': 0,\n",
       "   'memory': 'bank1'},\n",
       "  'b': {'address_offset': 28,\n",
       "   'access': 'read-write;',\n",
       "   'size': 64,\n",
       "   'description': 'OpenCL Argument Register',\n",
       "   'type': 'ap_uint<512>*',\n",
       "   'id': 1,\n",
       "   'memory': 'bank1'},\n",
       "  'c': {'address_offset': 40,\n",
       "   'access': 'read-write;',\n",
       "   'size': 64,\n",
       "   'description': 'OpenCL Argument Register',\n",
       "   'type': 'ap_uint<512>*',\n",
       "   'id': 2,\n",
       "   'memory': 'bank1'},\n",
       "  'count': {'address_offset': 52,\n",
       "   'access': 'read-write;',\n",
       "   'size': 32,\n",
       "   'description': 'OpenCL Argument Register',\n",
       "   'type': 'int',\n",
       "   'id': 3}},\n",
       " 'streams': {},\n",
       " 'mem_id': None,\n",
       " 'state': None,\n",
       " 'interrupts': {},\n",
       " 'gpio': {},\n",
       " 'xclbin_uuid': 'e36f085a554a4023a5f4ad76ee8ad170',\n",
       " 'adjusted_index': 0,\n",
       " 'index': 2,\n",
       " 'device': <pynq.pl_server.xrt_device.XrtDevice at 0x7fd5e05d0390>,\n",
       " 'driver': pynq.overlay.DefaultIP}"
      ]
     },
     "execution_count": 18,
     "metadata": {},
     "output_type": "execute_result"
    }
   ],
   "source": [
    "ol.ip_dict['vadd_wide_1']"
   ]
  },
  {
   "cell_type": "markdown",
   "metadata": {},
   "source": [
    "Most of the dictionary is dedicated to the register map where each register and field is enumerated. This information is used by PYNQ to reconstruct the function call and to correctly program the accelerator as a function call. Other useful entries in the dictionary are `phys_addr` which gives the address of the control logic and `type` which identfies the IP core of the accelerator.\n",
    "\n",
    "## The Memory Dictionary\n",
    "\n",
    "The memory dictionary contains information on the memory banks and streams in the system. Again we can dump the keys before having a closer look."
   ]
  },
  {
   "cell_type": "code",
   "execution_count": 6,
   "metadata": {},
   "outputs": [
    {
     "data": {
      "text/plain": [
       "dict_keys(['bank0', 'bank1', 'bank2', 'bank3', 'PLRAM[0]', 'PLRAM[1]', 'PLRAM[2]', 'dc_0'])"
      ]
     },
     "execution_count": 6,
     "metadata": {},
     "output_type": "execute_result"
    }
   ],
   "source": [
    "ol.mem_dict.keys()"
   ]
  },
  {
   "cell_type": "markdown",
   "metadata": {},
   "source": [
    "In most cases the memory banks are present in the platform and will appear in the dictionary whether or not they are in used. There is a `used` key in each sub-dictionary to determine whether a bank is used in the bitstream."
   ]
  },
  {
   "cell_type": "code",
   "execution_count": 8,
   "metadata": {},
   "outputs": [
    {
     "data": {
      "text/plain": [
       "{'raw_type': 1,\n",
       " 'used': 0,\n",
       " 'base_address': 481036337152,\n",
       " 'size': 17179869184,\n",
       " 'type': 'DDR4',\n",
       " 'streaming': False,\n",
       " 'idx': 3}"
      ]
     },
     "execution_count": 8,
     "metadata": {},
     "output_type": "execute_result"
    }
   ],
   "source": [
    "ol.mem_dict['bank3']"
   ]
  },
  {
   "cell_type": "markdown",
   "metadata": {},
   "source": [
    "The `base_address` and `size` fields can be useful for debugging allocated buffers and ensuring there is sufficient memory to run an application. The rest of the sub-dictionary is primarily for the internals of PYNQ to be able to interact with the hardware correctly.\n",
    "\n",
    "For streams the `streaming` key will point to `True` and a different set of entries are listed in the dictionary:"
   ]
  },
  {
   "cell_type": "code",
   "execution_count": 9,
   "metadata": {},
   "outputs": [
    {
     "data": {
      "text/plain": [
       "{'raw_type': 9,\n",
       " 'used': 1,\n",
       " 'flow_id': 0,\n",
       " 'route_id': 0,\n",
       " 'type': 'AXI Stream',\n",
       " 'streaming': True,\n",
       " 'idx': 7}"
      ]
     },
     "execution_count": 9,
     "metadata": {},
     "output_type": "execute_result"
    }
   ],
   "source": [
    "ol.mem_dict['dc_0']"
   ]
  },
  {
   "cell_type": "markdown",
   "metadata": {},
   "source": [
    "Again, the entries are primarily to support the low-levels of PYNQ and generally won't be needed in user code except to enumerate the streams in the system. Higher-level contructs are available through the Overlay class once the bitstream is loaded and these will be dicussed in the _Memories and Streams_ notebook in the kernel optimisation folder.\n",
    "\n",
    "Copyright (C) 2020 Xilinx, Inc"
   ]
  }
 ],
 "metadata": {
  "kernelspec": {
   "display_name": "Python 3",
   "language": "python",
   "name": "python3"
  },
  "language_info": {
   "codemirror_mode": {
    "name": "ipython",
    "version": 3
   },
   "file_extension": ".py",
   "mimetype": "text/x-python",
   "name": "python",
   "nbconvert_exporter": "python",
   "pygments_lexer": "ipython3",
   "version": "3.6.6"
  }
 },
 "nbformat": 4,
 "nbformat_minor": 2
}
