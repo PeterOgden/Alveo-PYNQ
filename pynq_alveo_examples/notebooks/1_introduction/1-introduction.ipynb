{
 "cells": [
  {
   "cell_type": "markdown",
   "metadata": {},
   "source": [
    "# Introduction to PYNQ for Alveo\n",
    "\n",
    "In this notebook, we will introduce the basics of PYNQ for Alveo. More specifially, we will explore briefly how to:\n",
    "1. program the device\n",
    "2. allocate buffers\n",
    "3. send to and receive data from the FPGA\n",
    "4. call an accelerator\n",
    "\n",
    "And that is literally all you need to get started!"
   ]
  },
  {
   "cell_type": "markdown",
   "metadata": {},
   "source": [
    "## Example 1: Vector Addition\n",
    "\n",
    "In this first example, we will use the vector addition kernel included in the [hello world](https://github.com/Xilinx/Vitis_Accel_Examples/tree/63bae10d581df40cf9402ed71ea825476751305d/hello_world) application of the [Vitis Accel Examples' Repository](https://github.com/Xilinx/Vitis_Accel_Examples/tree/63bae10d581df40cf9402ed71ea825476751305d).\n",
    "\n",
    "### Overlay download\n",
    "\n",
    "First, let's import `pynq`, download the overlay, and assign the vadd kernel IP to a variable called `vadd`. You can see below that the API is exactly the same as for Zynq devices"
   ]
  },
  {
   "cell_type": "code",
   "execution_count": 1,
   "metadata": {},
   "outputs": [
    {
     "data": {
      "application/javascript": [
       "\n",
       "try {\n",
       "require(['notebook/js/codecell'], function(codecell) {\n",
       "  codecell.CodeCell.options_default.highlight_modes[\n",
       "      'magic_text/x-csrc'] = {'reg':[/^%%microblaze/]};\n",
       "  Jupyter.notebook.events.one('kernel_ready.Kernel', function(){\n",
       "      Jupyter.notebook.get_cells().map(function(cell){\n",
       "          if (cell.cell_type == 'code'){ cell.auto_highlight(); } }) ;\n",
       "  });\n",
       "});\n",
       "} catch (e) {};\n"
      ]
     },
     "metadata": {},
     "output_type": "display_data"
    }
   ],
   "source": [
    "import pynq\n",
    "ol = pynq.Overlay(\"intro.xclbin\")\n",
    "\n",
    "vadd = ol.vadd_1"
   ]
  },
  {
   "cell_type": "markdown",
   "metadata": {},
   "source": [
    "### Buffers allocation\n",
    "\n",
    "Let's first take a look at the signature of the vadd kernel. To do so, we use the `.signature` property. The accelerator takes two input vectors, the output vector, and the vectors' size as arguments"
   ]
  },
  {
   "cell_type": "code",
   "execution_count": 2,
   "metadata": {},
   "outputs": [
    {
     "data": {
      "text/plain": [
       "<Signature (in1:'unsigned int const *', in2:'unsigned int const *', out_r:'unsigned int*', size:'int')>"
      ]
     },
     "execution_count": 2,
     "metadata": {},
     "output_type": "execute_result"
    }
   ],
   "source": [
    "vadd.signature"
   ]
  },
  {
   "cell_type": "markdown",
   "metadata": {},
   "source": [
    "Buffers allocation is carried by [`pynq.allocate`](https://pynq.readthedocs.io/en/v2.5/pynq_libraries/allocate.html), which provides the same interface as a [`numpy.ndarray`](https://docs.scipy.org/doc/numpy/reference/generated/numpy.ndarray.html). In this case we're going to create 3 1024x1024 arrays, two input and one output. Since the kernel uses unsigned integers, we specify `u4` as data type when performing allocation."
   ]
  },
  {
   "cell_type": "code",
   "execution_count": 3,
   "metadata": {},
   "outputs": [],
   "source": [
    "size = 1024*1024\n",
    "in1_vadd = pynq.allocate((1024, 1024), 'u4')\n",
    "in2_vadd = pynq.allocate((1024, 1024), 'u4')\n",
    "out = pynq.allocate((1024, 1024), 'u4')"
   ]
  },
  {
   "cell_type": "markdown",
   "metadata": {},
   "source": [
    "We can use numpy to easily initialize one of the input arrays with random data, with numbers in the range [0, 100). We instead set all the elements of the second input array to a fixed value so we can see at a glance whether the addition was successful."
   ]
  },
  {
   "cell_type": "code",
   "execution_count": 4,
   "metadata": {},
   "outputs": [],
   "source": [
    "import numpy as np\n",
    "in1_vadd[:] = np.random.randint(low=0, high=100, size=(1024, 1024), dtype='u4')\n",
    "in2_vadd[:] = 200"
   ]
  },
  {
   "cell_type": "markdown",
   "metadata": {},
   "source": [
    "### Run the kernel\n",
    "\n",
    "Before we can start the kernel we need to make sure that the buffers are flushed to the FPGA card. We do this by calling `.flush()` on each of our input arrays.\n",
    "\n",
    "To start the accelerator, we can use the `.call()` function and pass the kernel arguments. The function will take care of correctly setting the `register_map` of the IP and send the start signal. We pass the arguments to `.call()` following the `.signature` we previously inspected.\n",
    "\n",
    "Once the kernel has completed, we can `.invalidate()` the output buffer to ensure that data from the FPGA is transferred back to the host memory.\n",
    "\n",
    "We use the `%%timeit` magic to get the average execution time. This magic will automatically decide how many runs to perform to get a reliable average."
   ]
  },
  {
   "cell_type": "code",
   "execution_count": 5,
   "metadata": {},
   "outputs": [
    {
     "name": "stdout",
     "output_type": "stream",
     "text": [
      "17.5 ms ± 20.6 µs per loop (mean ± std. dev. of 7 runs, 100 loops each)\n"
     ]
    }
   ],
   "source": [
    "%%timeit\n",
    "in1_vadd.flush()\n",
    "in2_vadd.flush()\n",
    "\n",
    "vadd.call(in1_vadd, in2_vadd, out, size)\n",
    "\n",
    "out.invalidate()"
   ]
  },
  {
   "cell_type": "markdown",
   "metadata": {},
   "source": [
    "Finally, let's compare the FPGA results with software, using [`numpy.array_equal`](https://docs.scipy.org/doc/numpy/reference/generated/numpy.array_equal.html)"
   ]
  },
  {
   "cell_type": "code",
   "execution_count": 6,
   "metadata": {
    "scrolled": true
   },
   "outputs": [
    {
     "data": {
      "text/plain": [
       "True"
      ]
     },
     "execution_count": 6,
     "metadata": {},
     "output_type": "execute_result"
    }
   ],
   "source": [
    "np.array_equal(out, in1_vadd + in2_vadd)"
   ]
  },
  {
   "cell_type": "markdown",
   "metadata": {},
   "source": [
    "## Example 2: Vector Addition and Vector Multiplication\n",
    "\n",
    "In this second example, alongside the previously introduced vector addition kernel, we will use the vector multiplication kernel included in the [SLR assign](https://github.com/Xilinx/Vitis_Accel_Examples/tree/63bae10d581df40cf9402ed71ea825476751305d/sys_opt/slr_assign) application of the Vitis Accel Examples.\n",
    "\n",
    "We assign the vector multiplication kernel IP included in the overlay to a variable called `vmult`, and print the `.signature` similarly to what we have done for `vadd`."
   ]
  },
  {
   "cell_type": "code",
   "execution_count": 7,
   "metadata": {},
   "outputs": [
    {
     "data": {
      "text/plain": [
       "<Signature (A:'int*', B:'int*', C:'int*', n_elements:'int')>"
      ]
     },
     "execution_count": 7,
     "metadata": {},
     "output_type": "execute_result"
    }
   ],
   "source": [
    "vmult = ol.vmult_1\n",
    "vmult.signature"
   ]
  },
  {
   "cell_type": "markdown",
   "metadata": {},
   "source": [
    "For this example, we will take the result of `vadd` and feed it to `vmult`. Therefore, we will reuse the previously allocated buffers, so we only need to allocate two buffers that will be used as input for the `vmult` kernel."
   ]
  },
  {
   "cell_type": "code",
   "execution_count": 8,
   "metadata": {},
   "outputs": [],
   "source": [
    "in1_vmult = pynq.allocate((1024, 1024), 'u4')\n",
    "in2_vmult = pynq.allocate((1024, 1024), 'u4')"
   ]
  },
  {
   "cell_type": "markdown",
   "metadata": {},
   "source": [
    "The `in2_vmult` buffer will be used to store the output of `vadd`, so we need only to initialize the two input buffers for `vadd`, `in1_vadd` and `in2_vadd`, and the other input buffer for `vmult` that is `in1_vmult`. We set these buffers' elements to random integers in the range [0, 1000)."
   ]
  },
  {
   "cell_type": "code",
   "execution_count": 9,
   "metadata": {},
   "outputs": [],
   "source": [
    "in1_vadd[:] = np.random.randint(1000, size=(1024, 1024), dtype='u4')\n",
    "in2_vadd[:] = np.random.randint(1000, size=(1024, 1024), dtype='u4')\n",
    "in1_vmult[:] = np.random.randint(1000, size=(1024, 1024), dtype='u4')"
   ]
  },
  {
   "cell_type": "markdown",
   "metadata": {},
   "source": [
    "Similarly to what we did for the previous example, we have to `.flush()` the input buffers, and after executing the kernels using `.call()`, we have to `.invalidate()` the output buffer to transfer data back to the host memory. However, since `in2_vmult` is used as exchange buffer between `vadd` and `vmult`, and we need not to see its data from host, we don't need to do any flushing or invalidation for it.\n",
    "\n",
    "Again, we use the `%%timeit` magic to get an average of the execution time."
   ]
  },
  {
   "cell_type": "code",
   "execution_count": 10,
   "metadata": {},
   "outputs": [
    {
     "name": "stdout",
     "output_type": "stream",
     "text": [
      "32.2 ms ± 51.4 µs per loop (mean ± std. dev. of 7 runs, 10 loops each)\n"
     ]
    }
   ],
   "source": [
    "%%timeit\n",
    "in1_vadd.flush()\n",
    "in2_vadd.flush()\n",
    "in1_vmult.flush()\n",
    "\n",
    "vadd.call(in1_vadd, in2_vadd, in2_vmult, size)\n",
    "vmult.call(in1_vmult, in2_vmult, out, size)\n",
    "\n",
    "out.invalidate()"
   ]
  },
  {
   "cell_type": "markdown",
   "metadata": {},
   "source": [
    "And finally, we compare the result with software to check that the kernels correctly executed."
   ]
  },
  {
   "cell_type": "code",
   "execution_count": 11,
   "metadata": {
    "scrolled": true
   },
   "outputs": [
    {
     "data": {
      "text/plain": [
       "True"
      ]
     },
     "execution_count": 11,
     "metadata": {},
     "output_type": "execute_result"
    }
   ],
   "source": [
    "np.array_equal(out, (in1_vadd + in2_vadd) * in1_vmult)"
   ]
  },
  {
   "cell_type": "markdown",
   "metadata": {},
   "source": [
    "## Cleaning up\n",
    "\n",
    "Finally, we have to deallocate the buffers and free the FPGA context using `Overlay.free`. For the buffers, we have to use the [`%xdel`](https://ipython.readthedocs.io/en/stable/interactive/magics.html#magic-xdel) magic to also remove any reference to these buffers in Jupyter/IPython. IPython holds on to references of cell outputs so a standard `del` isn’t sufficient to remove all references to the array and hence trigger the memory to be freed."
   ]
  },
  {
   "cell_type": "code",
   "execution_count": 12,
   "metadata": {},
   "outputs": [],
   "source": [
    "%xdel in1_vadd\n",
    "%xdel in2_vadd\n",
    "%xdel in1_vmult\n",
    "%xdel in2_vmult\n",
    "%xdel out\n",
    "ol.free()"
   ]
  },
  {
   "cell_type": "markdown",
   "metadata": {},
   "source": [
    "Copyright (C) 2020 Xilinx, Inc"
   ]
  }
 ],
 "metadata": {
  "kernelspec": {
   "display_name": "Python 3",
   "language": "python",
   "name": "python3"
  },
  "language_info": {
   "codemirror_mode": {
    "name": "ipython",
    "version": 3
   },
   "file_extension": ".py",
   "mimetype": "text/x-python",
   "name": "python",
   "nbconvert_exporter": "python",
   "pygments_lexer": "ipython3",
   "version": "3.7.1"
  }
 },
 "nbformat": 4,
 "nbformat_minor": 2
}
